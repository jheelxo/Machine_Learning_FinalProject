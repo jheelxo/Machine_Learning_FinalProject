{
  "nbformat": 4,
  "nbformat_minor": 0,
  "metadata": {
    "colab": {
      "provenance": [],
      "include_colab_link": true
    },
    "kernelspec": {
      "name": "python3",
      "display_name": "Python 3"
    },
    "language_info": {
      "name": "python"
    }
  },
  "cells": [
    {
      "cell_type": "markdown",
      "metadata": {
        "id": "view-in-github",
        "colab_type": "text"
      },
      "source": [
        "<a href=\"https://colab.research.google.com/github/RayNCode/code_collab/blob/main/XGB_final_model.ipynb\" target=\"_parent\"><img src=\"https://colab.research.google.com/assets/colab-badge.svg\" alt=\"Open In Colab\"/></a>"
      ]
    },
    {
      "cell_type": "code",
      "execution_count": null,
      "metadata": {
        "id": "DKeCvbSzbNJh"
      },
      "outputs": [],
      "source": [
        "import pandas as pd\n",
        "import pandas as pd\n",
        "import numpy as np\n",
        "from sklearn.metrics import roc_auc_score, accuracy_score, precision_score, recall_score, f1_score, ConfusionMatrixDisplay, classification_report\n",
        "import xgboost as xgb\n",
        "from xgboost import XGBClassifier\n",
        "import seaborn as sns\n",
        "import matplotlib.pyplot as plt\n",
        "from sklearn.model_selection import train_test_split\n",
        "import sklearn\n",
        "sklearn.set_config(display=\"diagram\")\n",
        "from sklearn.compose import make_column_transformer\n",
        "from sklearn.preprocessing import OrdinalEncoder, OneHotEncoder\n",
        "from sklearn.pipeline import make_pipeline\n",
        "from sklearn.model_selection import cross_val_score\n",
        "from itertools import combinations\n",
        "from sklearn.model_selection import cross_validate, StratifiedKFold, GridSearchCV, RandomizedSearchCV\n",
        "from sklearn.experimental import enable_iterative_imputer\n",
        "from sklearn.impute import IterativeImputer\n",
        "from sklearn.ensemble import RandomForestRegressor"
      ]
    },
    {
      "cell_type": "code",
      "source": [
        "data_url = \"https://raw.githubusercontent.com/RayNCode/code_collab/main/project-3-files\"\n",
        "learn_dataset = pd.read_csv(f\"{data_url}/learn_dataset.csv\").copy()\n",
        "learn_dataset_Emp_contract = pd.read_csv(f\"{data_url}/learn_dataset_Emp_contract.csv\").copy()\n",
        "learn_dataset_sport = pd.read_csv(f\"{data_url}/learn_dataset_sport.csv\").copy()\n",
        "learn_dataset_job = pd.read_csv(f\"{data_url}/learn_dataset_job.csv\").copy()\n",
        "\n",
        "code_work_description_map = pd.read_csv(f\"{data_url}/code_work_description_map.csv\").copy()\n",
        "city_adm = pd.read_csv(f\"{data_url}/city_adm.csv\").copy()\n",
        "code_Club = pd.read_csv(f\"{data_url}/code_Club.csv\").copy()\n",
        "departments = pd.read_csv(f\"{data_url}/departments.csv\").copy()\n",
        "\n",
        "test_dataset_job = pd.read_csv(f\"{data_url}/test_dataset_job.csv\").copy()\n",
        "test_dataset = pd.read_csv(f\"{data_url}/test_dataset.csv\").copy()\n",
        "test_dataset_Emp_contract = pd.read_csv(f\"{data_url}/test_dataset_Emp_contract.csv\").copy()\n",
        "test_dataset_sport = pd.read_csv(f\"{data_url}/test_dataset_sport.csv\").copy()"
      ],
      "metadata": {
        "id": "Hr0sP1hAbU02"
      },
      "execution_count": null,
      "outputs": []
    },
    {
      "cell_type": "code",
      "source": [
        "def preprocess_data_base(learn_dataset_job, work_desc, learn_dataset, dept_code, emp_contract, learn_dataset_sport, code_club, departments):\n",
        "    # Chargement et fusion des datasets de travail\n",
        "    merged_df = pd.merge(learn_dataset_job, work_desc, left_on='work_description', right_on='N3', how='left')\n",
        "\n",
        "    # Conversion des colonnes N2, N1 et N3 en chaînes de caractères\n",
        "    merged_df['N2'] = merged_df['N2'].astype(str)\n",
        "    merged_df['N1'] = merged_df['N1'].astype(str)\n",
        "    merged_df['N3'] = merged_df['N3'].astype(str)\n",
        "\n",
        "    # Remplir les valeurs manquantes\n",
        "    merged_df['N2'].fillna(merged_df['N3'].str[:-2], inplace=True)\n",
        "    merged_df['N1'].fillna(merged_df['N2'].str[:-1], inplace=True)\n",
        "\n",
        "    # Fusion avec d'autres datasets\n",
        "    data_2 = pd.merge(learn_dataset, merged_df, on=\"Id\", how=\"left\")\n",
        "    df_1 = data_2.merge(dept_code, on='insee_code')\n",
        "    df_2 = df_1.merge(emp_contract, on='Id', how='left')\n",
        "    df_3 = df_2.merge(learn_dataset_sport, on='Id', how='left')\n",
        "    df_4 = df_3.merge(code_Club, left_on='Club', right_on='Code', how='left')\n",
        "    final_df = df_4.merge(departments, on='dep', how='left')\n",
        "\n",
        "    # Conversion de type pour les colonnes 'Categorie' et 'REG'\n",
        "    final_df['Categorie'] = final_df['Categorie'].astype(str).astype('object')\n",
        "    final_df['REG'] = final_df['REG'].astype(str).astype('object')\n",
        "\n",
        "\n",
        "    # Création et application d'une condition pour filtrer et imputer des valeurs\n",
        "    condition = (final_df['ACTIVITY_TYPE'] != \"TYPE1|1\")\n",
        "    final_df.loc[condition, ['EMOLUMENT', 'Working_hours']] = 0.0\n",
        "    # Traitement des valeurs manquantes dans les colonnes catégorielles\n",
        "    categorical_columns = final_df.select_dtypes(include=['object']).columns\n",
        "    final_df[categorical_columns] = final_df[categorical_columns].fillna(\"None\")\n",
        "\n",
        "\n",
        "    return final_df"
      ],
      "metadata": {
        "id": "AKpwm3Db5nwu"
      },
      "execution_count": null,
      "outputs": []
    },
    {
      "cell_type": "code",
      "source": [
        "learn_dataset_base = preprocess_data_base(learn_dataset_job, code_work_description_map, learn_dataset, city_adm, learn_dataset_Emp_contract, learn_dataset_sport, code_Club, departments)\n",
        "test_dataset_base = preprocess_data_base(test_dataset_job, code_work_description_map, test_dataset, city_adm, test_dataset_Emp_contract, test_dataset_sport, code_Club,departments)"
      ],
      "metadata": {
        "id": "dpGBgANu5t2A"
      },
      "execution_count": null,
      "outputs": []
    },
    {
      "cell_type": "code",
      "source": [
        "def preprocess_learn_test(final_df): #ajouter l'ID quelque part\n",
        "    # Séparer la variable cible si elle est présente\n",
        "    if 'target' in final_df.columns:\n",
        "        y = final_df['target'].copy()\n",
        "        y = np.where(y == 'B', 1, 0)\n",
        "        X = final_df.drop(['target'], axis='columns')\n",
        "        X = X.drop([\"Id\", 'Nom de la commune', 'Nom fédération', 'Nom catégorie', 'Nom du département', 'Code'], axis=\"columns\")\n",
        "        imputer = IterativeImputer(estimator=RandomForestRegressor(), max_iter=100, random_state=0)\n",
        "        columns_to_impute = ['Working_hours', 'EMOLUMENT']\n",
        "        X[columns_to_impute] = imputer.fit_transform(X[columns_to_impute])\n",
        "    else:\n",
        "        X = final_df.copy()\n",
        "        X_test_id = X['Id'].copy()\n",
        "        # Suppression des colonnes non nécessaires\n",
        "        X = X.drop([\"Id\", 'Nom de la commune', 'Nom fédération', 'Nom catégorie', 'Nom du département', 'Code'], axis=\"columns\")\n",
        "\n",
        "\n",
        "\n",
        "    if 'target' in final_df.columns:\n",
        "      return X, y\n",
        "    else:\n",
        "      return X, X_test_id"
      ],
      "metadata": {
        "id": "Rb6b0tYn5uZ1"
      },
      "execution_count": null,
      "outputs": []
    },
    {
      "cell_type": "code",
      "source": [
        "X, y = preprocess_learn_test(learn_dataset_base)\n",
        "X_testing, X_testing_id = preprocess_learn_test(test_dataset_base)\n",
        "print(\"Shape de X_train:\", X.shape)\n",
        "print(\"Shape de y_test:\", y.shape)"
      ],
      "metadata": {
        "colab": {
          "base_uri": "https://localhost:8080/"
        },
        "id": "Bzho6gh852W5",
        "outputId": "2453ef51-4bcb-4a3d-985e-fe99cc701681"
      },
      "execution_count": null,
      "outputs": [
        {
          "output_type": "stream",
          "name": "stdout",
          "text": [
            "Shape de X_train: (49993, 27)\n",
            "Shape de y_test: (49993,)\n",
            "Shape de X_test: (49992, 27)\n"
          ]
        }
      ]
    },
    {
      "cell_type": "code",
      "source": [
        "X_train, X_test, y_train, y_test = train_test_split(X, y, test_size=0.2, random_state=0, stratify=y)"
      ],
      "metadata": {
        "id": "omjLyBLbbx5G"
      },
      "execution_count": null,
      "outputs": []
    },
    {
      "cell_type": "code",
      "source": [
        "preprocessing = make_column_transformer (\n",
        "    (OneHotEncoder(handle_unknown='ignore'), ['insee_code',\"is_student\", \"OCCUPATION_42\", \"ACTIVITY_TYPE\", \"household\", \"sex\", \"employer_category\", \"job_category\", \"Terms_of_emp\",\n",
        "                       \"Eco_sect\", \"Job_dep\", \"WORK_CONDITION\", \"work_description\",\"N3\", \"N2\", \"N1\", \"town_type\", \"dep\", \"Emp_contract\", \"Club\", \"Categorie\", 'REG']),\n",
        "    (OrdinalEncoder(), [\"Highest_degree\", \"EMPLOYEE_COUNT\"]),\n",
        "    remainder='passthrough')"
      ],
      "metadata": {
        "id": "vjwdpJ1Db513"
      },
      "execution_count": null,
      "outputs": []
    },
    {
      "cell_type": "code",
      "source": [
        "def tune_hyperparameters(pipeline, param_grid, X_train, y_train):\n",
        "    \"\"\"\n",
        "    This function tunes the hyperparameters of a classifier using GridSearchCV and cross-validation\n",
        "    and returns the best classifier model with the optimal hyperparameters.\n",
        "    \"\"\"\n",
        "\n",
        "    # Create the cross-validation object using StratifiedKFold to ensure the class distribution is the same across all the folds\n",
        "    cv = StratifiedKFold(n_splits=5, shuffle=True, random_state=0)\n",
        "\n",
        "    # Create the RandomizedSearch object\n",
        "    clf_grid = RandomizedSearchCV(\n",
        "        estimator=pipeline,\n",
        "        param_distributions=param_grid,\n",
        "        cv=cv, scoring='accuracy',\n",
        "        n_iter=50,\n",
        "        n_jobs=-1)\n",
        "\n",
        "    # Fit the GridSearchCV object to the training data\n",
        "    clf_grid.fit(X_train, y_train)\n",
        "\n",
        "    # Get the best hyperparameters\n",
        "    print(\"Best hyperparameters:\\n\", clf_grid.best_params_)\n",
        "\n",
        "    # Return best_estimator_ attribute which gives us the best model that has been fitted to the training data\n",
        "    return clf_grid.best_estimator_\n"
      ],
      "metadata": {
        "id": "UFjX9F-NdD-q"
      },
      "execution_count": null,
      "outputs": []
    },
    {
      "cell_type": "code",
      "source": [
        "# Define the hyperparameter grid to search\n",
        "xgb_param_grid = {\n",
        "    'xgbclassifier__subsample': np.arange(0.7, 0.9, 0.01),\n",
        "    'xgbclassifier__scale_pos_weight': np.arange(0.7, 0.9, 0.01),\n",
        "    'xgbclassifier__reg_lambda': np.arange(0.08, 0.10, 0.01),\n",
        "    'xgbclassifier__reg_alpha': np.arange(0.01, 1, 0.01),\n",
        "    'xgbclassifier__n_estimators': np.arange(140, 161, 1),\n",
        "    'xgbclassifier__min_child_weight': np.arange(3, 3.5, 0.01),\n",
        "    'xgbclassifier__max_depth': np.arange(4, 6, 1),\n",
        "    'xgbclassifier__max_delta_step': np.arange(1.5, 2, 0.01),\n",
        "    'xgbclassifier__learning_rate': np.arange(0.7, 1, 0.01),\n",
        "    'xgbclassifier__gamma': np.arange(0.8, 1, 0.001),\n",
        "    'xgbclassifier__colsample_bytree': np.arange(0.65, 0.75, 0.01),\n",
        "    'xgbclassifier__colsample_bylevel': np.arange(0.8, 1, 0.01),\n",
        "    }"
      ],
      "metadata": {
        "id": "AhmGSDHDddqU"
      },
      "execution_count": null,
      "outputs": []
    },
    {
      "cell_type": "code",
      "source": [
        "XGBoost = XGBClassifier(random_state=42)\n",
        "XGB = make_pipeline(preprocessing, XGBoost)"
      ],
      "metadata": {
        "id": "mQ9lVtbribRV"
      },
      "execution_count": null,
      "outputs": []
    },
    {
      "cell_type": "code",
      "source": [
        "xgb_opt = tune_hyperparameters(XGB, xgb_param_grid, X_train, y_train)"
      ],
      "metadata": {
        "colab": {
          "base_uri": "https://localhost:8080/"
        },
        "id": "R_auexg3kPun",
        "outputId": "4b3840c7-e893-450b-96d1-98bf1b2505ce"
      },
      "execution_count": null,
      "outputs": [
        {
          "output_type": "stream",
          "name": "stdout",
          "text": [
            "Best hyperparameters:\n",
            " {'xgbclassifier__subsample': 0.9000000000000001, 'xgbclassifier__scale_pos_weight': 0.8300000000000001, 'xgbclassifier__reg_lambda': 0.08, 'xgbclassifier__reg_alpha': 0.8, 'xgbclassifier__n_estimators': 151, 'xgbclassifier__min_child_weight': 3.279999999999994, 'xgbclassifier__max_depth': 5, 'xgbclassifier__max_delta_step': 1.54, 'xgbclassifier__learning_rate': 0.76, 'xgbclassifier__gamma': 0.9980000000000002, 'xgbclassifier__colsample_bytree': 0.7100000000000001, 'xgbclassifier__colsample_bylevel': 0.9400000000000002}\n"
          ]
        }
      ]
    },
    {
      "cell_type": "markdown",
      "source": [
        "Best paramsV1: {'xgbclassifier__subsample': 0.75, 'xgbclassifier__scale_pos_weight': 0.7300000000000001, 'xgbclassifier__reg_lambda': 0.09999999999999999, 'xgbclassifier__reg_alpha': 0.76, 'xgbclassifier__n_estimators': 155, 'xgbclassifier__min_child_weight': 3.300000000000001, 'xgbclassifier__max_depth': 5, 'xgbclassifier__max_delta_step': 1.84, 'xgbclassifier__learning_rate': 0.75, 'xgbclassifier__gamma': 0.88, 'xgbclassifier__colsample_bytree': 0.7200000000000001, 'xgbclassifier__colsample_bylevel': 0.9500000000000002}\n",
        "\n",
        "Best paramsV2: {'xgbclassifier__subsample': 0.9000000000000001, 'xgbclassifier__scale_pos_weight': 0.8300000000000001, 'xgbclassifier__reg_lambda': 0.08, 'xgbclassifier__reg_alpha': 0.8, 'xgbclassifier__n_estimators': 151, 'xgbclassifier__min_child_weight': 3.279999999999994, 'xgbclassifier__max_depth': 5, 'xgbclassifier__max_delta_step': 1.54, 'xgbclassifier__learning_rate': 0.76, 'xgbclassifier__gamma': 0.9980000000000002, 'xgbclassifier__colsample_bytree': 0.7100000000000001, 'xgbclassifier__colsample_bylevel': 0.9400000000000002}\n"
      ],
      "metadata": {
        "id": "rWINaRjveFe5"
      }
    },
    {
      "cell_type": "code",
      "source": [
        "def metrics_calculator(clf, X_test, y_test, model_name):\n",
        "    '''\n",
        "    This function calculates all desired performance metrics for a given model on test data.\n",
        "    '''\n",
        "    y_pred = clf.predict(X_test)\n",
        "    result = pd.DataFrame(data=[accuracy_score(y_test, y_pred),\n",
        "                                precision_score(y_test, y_pred, average='macro'),\n",
        "                                recall_score(y_test, y_pred, average='macro'),\n",
        "                                f1_score(y_test, y_pred, average='macro'),\n",
        "                                roc_auc_score(y_test, clf.predict_proba(X_test)[::,1], average='macro')],\n",
        "                          index=['Accuracy','Macro Precision','Macro Recall','Macro F1-score','Macro AUC'],\n",
        "                          columns = [model_name])\n",
        "\n",
        "    result = (result * 100).round(2).astype(str) + '%'\n",
        "    return result"
      ],
      "metadata": {
        "id": "-Qoi-qVveF_m"
      },
      "execution_count": null,
      "outputs": []
    },
    {
      "cell_type": "code",
      "source": [
        "def model_evaluation(clf, X_train, X_test, y_train, y_test, model_name):\n",
        "    '''\n",
        "    This function provides a complete report of the model's performance including classification reports and confusion matrix\n",
        "    '''\n",
        "    # Set font scale\n",
        "    sns.set(font_scale=1.5)\n",
        "\n",
        "    # Generate classification report for training set\n",
        "    y_pred_train = clf.predict(X_train)\n",
        "    print(\"\\n\\t  Classification report for training set\")\n",
        "    print(\"-\"*55)\n",
        "    print(classification_report(y_train, y_pred_train))\n",
        "\n",
        "    # Generate classification report for test set\n",
        "    y_pred_test = clf.predict(X_test)\n",
        "    print(\"\\n\\t   Classification report for test set\")\n",
        "    print(\"-\"*55)\n",
        "    print(classification_report(y_test, y_pred_test))\n",
        "    print('\\n')\n",
        "\n",
        "    # Create figure and subplots\n",
        "    fig, (ax1, ax2) = plt.subplots(1, 2, dpi=90, figsize=(12, 5))\n",
        "\n",
        "    # Plot confusion matrix for test set\n",
        "    cmap = plt.cm.Purples  # Remplace 'purple_cmap' par 'cmap'\n",
        "\n",
        "    ConfusionMatrixDisplay.from_estimator(clf, X_test, y_test, colorbar=False, cmap=cmap, ax=ax1)\n",
        "    ax1.set_title('Confusion Matrix for Test Data')\n",
        "    ax1.grid(False)\n",
        "\n",
        "    # Report desired results as a summary in the form of a table\n",
        "    result = metrics_calculator(clf, X_test, y_test, model_name)\n",
        "    table = ax2.table(cellText=result.values, colLabels=result.columns, rowLabels=result.index, loc='center')\n",
        "    table.scale(0.6, 3.6)\n",
        "    table.set_fontsize(12)\n",
        "    ax2.axis('tight')\n",
        "    # Hide the axes\n",
        "    ax2.axis('off')\n",
        "    # set the title\n",
        "    ax2.set_title('{} Performance Summary on Test Data'.format(model_name), fontsize=18)\n",
        "    # Modify color\n",
        "    for key, cell in table.get_celld().items():\n",
        "        if key[0] == 0:\n",
        "          cell.set_color('purple')\n",
        "\n",
        "    plt.tight_layout()\n",
        "    plt.show()"
      ],
      "metadata": {
        "id": "yWW_hnKhQLGj"
      },
      "execution_count": null,
      "outputs": []
    },
    {
      "cell_type": "code",
      "source": [
        "model_evaluation(xgb_opt, X_train, X_test, y_train, y_test, 'XGBoost')"
      ],
      "metadata": {
        "id": "G9XCt8R-eUAI",
        "colab": {
          "base_uri": "https://localhost:8080/",
          "height": 878
        },
        "outputId": "06040a70-48dc-4bd1-bfd3-b27b9740d5c1"
      },
      "execution_count": null,
      "outputs": [
        {
          "output_type": "stream",
          "name": "stdout",
          "text": [
            "\n",
            "\t  Classification report for training set\n",
            "-------------------------------------------------------\n",
            "              precision    recall  f1-score   support\n",
            "\n",
            "           0       0.93      0.94      0.93     15412\n",
            "           1       0.96      0.95      0.96     24582\n",
            "\n",
            "    accuracy                           0.95     39994\n",
            "   macro avg       0.95      0.95      0.95     39994\n",
            "weighted avg       0.95      0.95      0.95     39994\n",
            "\n",
            "\n",
            "\t   Classification report for test set\n",
            "-------------------------------------------------------\n",
            "              precision    recall  f1-score   support\n",
            "\n",
            "           0       0.88      0.90      0.89      3853\n",
            "           1       0.93      0.92      0.93      6146\n",
            "\n",
            "    accuracy                           0.91      9999\n",
            "   macro avg       0.91      0.91      0.91      9999\n",
            "weighted avg       0.91      0.91      0.91      9999\n",
            "\n",
            "\n",
            "\n"
          ]
        },
        {
          "output_type": "display_data",
          "data": {
            "text/plain": [
              "<Figure size 1080x450 with 2 Axes>"
            ],
            "image/png": "[encoded data removed]"
          },
          "metadata": {}
        }
      ]
    }
  ]
}