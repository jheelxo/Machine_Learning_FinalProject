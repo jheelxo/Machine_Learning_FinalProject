{
  "metadata": {
    "colab": {
      "provenance": [],
      "include_colab_link": true
    },
    "kernelspec": {
      "name": "python3",
      "display_name": "Python 3",
      "language": "python"
    },
    "language_info": {
      "name": "python",
      "version": "3.10.12",
      "mimetype": "text/x-python",
      "codemirror_mode": {
        "name": "ipython",
        "version": 3
      },
      "pygments_lexer": "ipython3",
      "nbconvert_exporter": "python",
      "file_extension": ".py"
    },
    "kaggle": {
      "accelerator": "none",
      "dataSources": [],
      "dockerImageVersionId": 30635,
      "isInternetEnabled": true,
      "language": "python",
      "sourceType": "notebook",
      "isGpuEnabled": false
    }
  },
  "nbformat_minor": 0,
  "nbformat": 4,
  "cells": [
    {
      "cell_type": "markdown",
      "metadata": {
        "id": "view-in-github",
        "colab_type": "text"
      },
      "source": [
        "<a href=\"https://colab.research.google.com/github/RayNCode/code_collab/blob/main/BestModelWithoutGridSearch.ipynb\" target=\"_parent\"><img src=\"https://colab.research.google.com/assets/colab-badge.svg\" alt=\"Open In Colab\"/></a>"
      ]
    },
    {
      "cell_type": "code",
      "source": [
        "import pandas as pd\n",
        "import numpy as np\n",
        "from sklearn.metrics import roc_auc_score, accuracy_score, precision_score, recall_score, f1_score\n",
        "from sklearn.linear_model import LogisticRegression\n",
        "from sklearn.tree import DecisionTreeClassifier\n",
        "from sklearn.svm import SVC\n",
        "from sklearn.ensemble import RandomForestClassifier\n",
        "from sklearn.discriminant_analysis import LinearDiscriminantAnalysis, QuadraticDiscriminantAnalysis\n",
        "from sklearn.cluster import KMeans\n",
        "from sklearn.neighbors import KNeighborsClassifier\n",
        "from sklearn.naive_bayes import GaussianNB\n",
        "from sklearn.metrics import precision_recall_fscore_support\n",
        "from sklearn.metrics import mean_squared_error as mse\n",
        "from sklearn.preprocessing import StandardScaler\n",
        "from sklearn.model_selection import cross_validate\n",
        "from sklearn.model_selection import train_test_split\n",
        "from sklearn.ensemble import ExtraTreesClassifier\n",
        "from sklearn.feature_selection import SelectFromModel\n",
        "from sklearn.svm import LinearSVC\n",
        "from sklearn.ensemble import VotingClassifier\n",
        "from sklearn.feature_selection import RFECV\n",
        "from sklearn.ensemble import GradientBoostingClassifier\n",
        "import xgboost as xgb\n",
        "from sklearn.ensemble import AdaBoostClassifier\n",
        "from sklearn.experimental import enable_iterative_imputer\n",
        "from sklearn.impute import IterativeImputer\n",
        "from sklearn.ensemble import RandomForestRegressor\n",
        "import pandas as pd\n",
        "import matplotlib as plt\n",
        "import numpy as np"
      ],
      "metadata": {
        "id": "-wn0OJqb0vBn",
        "execution": {
          "iopub.status.busy": "2024-01-28T16:14:15.534659Z",
          "iopub.execute_input": "2024-01-28T16:14:15.535193Z",
          "iopub.status.idle": "2024-01-28T16:14:15.658834Z",
          "shell.execute_reply.started": "2024-01-28T16:14:15.535156Z",
          "shell.execute_reply": "2024-01-28T16:14:15.657753Z"
        },
        "trusted": true
      },
      "execution_count": null,
      "outputs": []
    },
    {
      "cell_type": "code",
      "source": [
        "from sklearn.model_selection import train_test_split\n",
        "import sklearn\n",
        "sklearn.set_config(display=\"diagram\")\n",
        "from sklearn.compose import make_column_transformer\n",
        "from sklearn.preprocessing import OrdinalEncoder\n",
        "from sklearn.preprocessing import OneHotEncoder\n",
        "from sklearn.linear_model import LogisticRegression\n",
        "from sklearn.pipeline import make_pipeline\n",
        "from sklearn.model_selection import cross_val_score\n",
        "from itertools import combinations\n",
        "from sklearn.model_selection import cross_validate"
      ],
      "metadata": {
        "id": "EMPtPBc8xUk0",
        "execution": {
          "iopub.status.busy": "2024-01-28T16:14:15.688161Z",
          "iopub.execute_input": "2024-01-28T16:14:15.688846Z",
          "iopub.status.idle": "2024-01-28T16:14:15.698786Z",
          "shell.execute_reply.started": "2024-01-28T16:14:15.688791Z",
          "shell.execute_reply": "2024-01-28T16:14:15.69783Z"
        },
        "trusted": true
      },
      "execution_count": null,
      "outputs": []
    },
    {
      "cell_type": "code",
      "source": [
        "data_url = \"https://raw.githubusercontent.com/RayNCode/code_collab/main/project-3-files\"\n",
        "learn_dataset = pd.read_csv(f\"{data_url}/learn_dataset.csv\").copy()\n",
        "learn_dataset_Emp_contract = pd.read_csv(f\"{data_url}/learn_dataset_Emp_contract.csv\").copy()\n",
        "learn_dataset_sport = pd.read_csv(f\"{data_url}/learn_dataset_sport.csv\").copy()\n",
        "learn_dataset_job = pd.read_csv(f\"{data_url}/learn_dataset_job.csv\").copy()\n",
        "\n",
        "code_work_description_map = pd.read_csv(f\"{data_url}/code_work_description_map.csv\").copy()\n",
        "city_adm = pd.read_csv(f\"{data_url}/city_adm.csv\").copy()\n",
        "code_Club = pd.read_csv(f\"{data_url}/code_Club.csv\").copy()\n",
        "departments = pd.read_csv(f\"{data_url}/departments.csv\").copy()\n",
        "\n",
        "test_dataset_job = pd.read_csv(f\"{data_url}/test_dataset_job.csv\").copy()\n",
        "test_dataset = pd.read_csv(f\"{data_url}/test_dataset.csv\").copy()\n",
        "test_dataset_Emp_contract = pd.read_csv(f\"{data_url}/test_dataset_Emp_contract.csv\").copy()\n",
        "test_dataset_sport = pd.read_csv(f\"{data_url}/test_dataset_sport.csv\").copy()"
      ],
      "metadata": {
        "id": "L_UkmzIazjHu",
        "execution": {
          "iopub.status.busy": "2024-01-28T16:14:15.702712Z",
          "iopub.execute_input": "2024-01-28T16:14:15.703219Z",
          "iopub.status.idle": "2024-01-28T16:14:22.302023Z",
          "shell.execute_reply.started": "2024-01-28T16:14:15.703177Z",
          "shell.execute_reply": "2024-01-28T16:14:22.300701Z"
        },
        "trusted": true
      },
      "execution_count": null,
      "outputs": []
    },
    {
      "cell_type": "code",
      "source": [
        "def preprocess_data_base(learn_dataset_job, work_desc, learn_dataset, dept_code, emp_contract, learn_dataset_sport, code_club, departments):\n",
        "    # Chargement et fusion des datasets de travail\n",
        "    merged_df = pd.merge(learn_dataset_job, work_desc, left_on='work_description', right_on='N3', how='left')\n",
        "\n",
        "    # Conversion des colonnes N2, N1 et N3 en chaînes de caractères\n",
        "    merged_df['N2'] = merged_df['N2'].astype(str)\n",
        "    merged_df['N1'] = merged_df['N1'].astype(str)\n",
        "    merged_df['N3'] = merged_df['N3'].astype(str)\n",
        "\n",
        "    # Remplir les valeurs manquantes\n",
        "    merged_df['N2'].fillna(merged_df['N3'].str[:-2], inplace=True)\n",
        "    merged_df['N1'].fillna(merged_df['N2'].str[:-1], inplace=True)\n",
        "\n",
        "    # Fusion avec d'autres datasets\n",
        "    data_2 = pd.merge(learn_dataset, merged_df, on=\"Id\", how=\"left\")\n",
        "    df_1 = data_2.merge(dept_code, on='insee_code')\n",
        "    df_2 = df_1.merge(emp_contract, on='Id', how='left')\n",
        "    df_3 = df_2.merge(learn_dataset_sport, on='Id', how='left')\n",
        "    df_4 = df_3.merge(code_Club, left_on='Club', right_on='Code', how='left')\n",
        "    final_df = df_4.merge(departments, on='dep', how='left')\n",
        "\n",
        "    # Conversion de type pour les colonnes 'Categorie' et 'REG'\n",
        "    final_df['Categorie'] = final_df['Categorie'].astype(str).astype('object')\n",
        "    final_df['REG'] = final_df['REG'].astype(str).astype('object')\n",
        "\n",
        "\n",
        "    # Création et application d'une condition pour filtrer et imputer des valeurs\n",
        "    condition = (final_df['ACTIVITY_TYPE'] != \"TYPE1|1\")\n",
        "    final_df.loc[condition, ['EMOLUMENT', 'Working_hours']] = 0.0\n",
        "    # Traitement des valeurs manquantes dans les colonnes catégorielles\n",
        "    categorical_columns = final_df.select_dtypes(include=['object']).columns\n",
        "    final_df[categorical_columns] = final_df[categorical_columns].fillna(\"None\")\n",
        "\n",
        "\n",
        "    return final_df"
      ],
      "metadata": {
        "id": "kld52z1AzniO",
        "execution": {
          "iopub.status.busy": "2024-01-28T16:14:22.303661Z",
          "iopub.execute_input": "2024-01-28T16:14:22.304061Z",
          "iopub.status.idle": "2024-01-28T16:14:22.32169Z",
          "shell.execute_reply.started": "2024-01-28T16:14:22.304025Z",
          "shell.execute_reply": "2024-01-28T16:14:22.320291Z"
        },
        "trusted": true
      },
      "execution_count": null,
      "outputs": []
    },
    {
      "cell_type": "code",
      "source": [
        "learn_dataset_base = preprocess_data_base(learn_dataset_job, code_work_description_map, learn_dataset, city_adm, learn_dataset_Emp_contract, learn_dataset_sport, code_Club, departments)"
      ],
      "metadata": {
        "id": "egiit1Bizp8o",
        "execution": {
          "iopub.status.busy": "2024-01-28T16:14:22.323209Z",
          "iopub.execute_input": "2024-01-28T16:14:22.324033Z",
          "iopub.status.idle": "2024-01-28T16:14:23.06738Z",
          "shell.execute_reply.started": "2024-01-28T16:14:22.323988Z",
          "shell.execute_reply": "2024-01-28T16:14:23.066084Z"
        },
        "trusted": true
      },
      "execution_count": null,
      "outputs": []
    },
    {
      "cell_type": "code",
      "source": [
        "def preprocess_learn_test(final_df): #ajouter l'ID quelque part\n",
        "    # Séparer la variable cible si elle est présente\n",
        "    if 'target' in final_df.columns:\n",
        "        y = final_df['target'].copy()\n",
        "        y = np.where(y == 'B', 1, 0)\n",
        "        X = final_df.drop(['target'], axis='columns')\n",
        "        X = X.drop([\"Id\", 'Nom de la commune', 'Nom fédération', 'Nom catégorie', 'Nom du département', 'Code'], axis=\"columns\")\n",
        "        imputer = IterativeImputer(estimator=RandomForestRegressor(), max_iter=100, random_state=0)\n",
        "        columns_to_impute = ['Working_hours', 'EMOLUMENT']\n",
        "        X[columns_to_impute] = imputer.fit_transform(X[columns_to_impute])\n",
        "    else:\n",
        "        X = final_df.copy()\n",
        "        X_test_id = X['Id'].copy()\n",
        "        # Suppression des colonnes non nécessaires\n",
        "        X = X.drop([\"Id\", 'Nom de la commune', 'Nom fédération', 'Nom catégorie', 'Nom du département', 'Code'], axis=\"columns\")\n",
        "\n",
        "\n",
        "\n",
        "    if 'target' in final_df.columns:\n",
        "      return X, y\n",
        "    else:\n",
        "      return X, X_test_id"
      ],
      "metadata": {
        "id": "pYYJrtJYztaZ",
        "execution": {
          "iopub.status.busy": "2024-01-28T16:14:23.068925Z",
          "iopub.execute_input": "2024-01-28T16:14:23.069313Z",
          "iopub.status.idle": "2024-01-28T16:14:23.080206Z",
          "shell.execute_reply.started": "2024-01-28T16:14:23.069283Z",
          "shell.execute_reply": "2024-01-28T16:14:23.078727Z"
        },
        "trusted": true
      },
      "execution_count": null,
      "outputs": []
    },
    {
      "cell_type": "code",
      "source": [
        "X, y = preprocess_learn_test(learn_dataset_base)"
      ],
      "metadata": {
        "id": "Uv9rDdTXzxK6",
        "execution": {
          "iopub.status.busy": "2024-01-28T16:14:23.081671Z",
          "iopub.execute_input": "2024-01-28T16:14:23.082075Z",
          "iopub.status.idle": "2024-01-28T16:16:02.953014Z",
          "shell.execute_reply.started": "2024-01-28T16:14:23.081997Z",
          "shell.execute_reply": "2024-01-28T16:16:02.951687Z"
        },
        "trusted": true
      },
      "execution_count": null,
      "outputs": []
    },
    {
      "cell_type": "code",
      "source": [
        "X_train, X_test, y_train, y_test = train_test_split(X, y, test_size=0.2, random_state=0, stratify=y)"
      ],
      "metadata": {
        "id": "bNWVi4AJzMXS",
        "execution": {
          "iopub.status.busy": "2024-01-28T16:16:02.955145Z",
          "iopub.execute_input": "2024-01-28T16:16:02.955604Z",
          "iopub.status.idle": "2024-01-28T16:16:03.06313Z",
          "shell.execute_reply.started": "2024-01-28T16:16:02.955562Z",
          "shell.execute_reply": "2024-01-28T16:16:03.061917Z"
        },
        "trusted": true
      },
      "execution_count": null,
      "outputs": []
    },
    {
      "cell_type": "code",
      "source": [
        "preprocessing = make_column_transformer (\n",
        "    (OneHotEncoder(handle_unknown='ignore'), ['insee_code',\"is_student\", \"OCCUPATION_42\", \"ACTIVITY_TYPE\", \"household\", \"sex\", \"employer_category\", \"job_category\", \"Terms_of_emp\",\n",
        "                       \"Eco_sect\", \"Job_dep\", \"WORK_CONDITION\", \"work_description\",\"N3\", \"N2\", \"N1\", \"town_type\", \"dep\", \"Emp_contract\", \"Club\", \"Categorie\", 'REG']),\n",
        "    (OrdinalEncoder(), [\"Highest_degree\", \"EMPLOYEE_COUNT\"]),\n",
        "    remainder='passthrough')"
      ],
      "metadata": {
        "id": "huph6psjxabc",
        "execution": {
          "iopub.status.busy": "2024-01-28T16:18:14.183664Z",
          "iopub.execute_input": "2024-01-28T16:18:14.184161Z",
          "iopub.status.idle": "2024-01-28T16:18:14.192309Z",
          "shell.execute_reply.started": "2024-01-28T16:18:14.184117Z",
          "shell.execute_reply": "2024-01-28T16:18:14.191117Z"
        },
        "trusted": true
      },
      "execution_count": null,
      "outputs": []
    },
    {
      "cell_type": "code",
      "source": [
        "logreg = LogisticRegression(solver='lbfgs', max_iter=5000)\n",
        "LR = make_pipeline(preprocessing, logreg)\n",
        "\n",
        "scoring = ['accuracy', 'precision_macro', 'recall_macro' , 'f1_weighted', 'roc_auc']\n",
        "scores = cross_validate(LR, X_train, y_train, scoring=scoring, cv=5)\n",
        "\n",
        "sorted(scores.keys())\n",
        "LR_fit_time = scores['fit_time'].mean()\n",
        "LR_score_time = scores['score_time'].mean()\n",
        "LR_accuracy = scores['test_accuracy'].mean()\n",
        "LR_precision = scores['test_precision_macro'].mean()\n",
        "LR_recall = scores['test_recall_macro'].mean()\n",
        "LR_f1 = scores['test_f1_weighted'].mean()\n",
        "LR_roc = scores['test_roc_auc'].mean()"
      ],
      "metadata": {
        "id": "oVg83Rrky91W",
        "execution": {
          "iopub.status.busy": "2024-01-28T16:18:21.934431Z",
          "iopub.execute_input": "2024-01-28T16:18:21.934873Z",
          "iopub.status.idle": "2024-01-28T16:19:08.498503Z",
          "shell.execute_reply.started": "2024-01-28T16:18:21.934837Z",
          "shell.execute_reply": "2024-01-28T16:19:08.497449Z"
        },
        "trusted": true
      },
      "execution_count": null,
      "outputs": []
    },
    {
      "cell_type": "code",
      "source": [
        "gradient_boosting = GradientBoostingClassifier(n_estimators=100, learning_rate=0.1, random_state=42)\n",
        "decision_tree = make_pipeline(preprocessing, gradient_boosting)\n",
        "\n",
        "scoring = ['accuracy', 'precision_macro', 'recall_macro' , 'f1_weighted', 'roc_auc']\n",
        "scores = cross_validate(decision_tree, X_train, y_train, scoring=scoring, cv=5)\n",
        "sorted(scores.keys())\n",
        "\n",
        "dtree_fit_time = scores['fit_time'].mean()\n",
        "dtree_score_time = scores['score_time'].mean()\n",
        "dtree_accuracy = scores['test_accuracy'].mean()\n",
        "dtree_precision = scores['test_precision_macro'].mean()\n",
        "dtree_recall = scores['test_recall_macro'].mean()\n",
        "dtree_f1 = scores['test_f1_weighted'].mean()\n",
        "dtree_roc = scores['test_roc_auc'].mean()\n"
      ],
      "metadata": {
        "id": "34ymqofb0lMn",
        "execution": {
          "iopub.status.busy": "2024-01-28T16:20:12.943781Z",
          "iopub.execute_input": "2024-01-28T16:20:12.944201Z",
          "iopub.status.idle": "2024-01-28T16:21:17.527716Z",
          "shell.execute_reply.started": "2024-01-28T16:20:12.94417Z",
          "shell.execute_reply": "2024-01-28T16:21:17.526604Z"
        },
        "trusted": true
      },
      "execution_count": null,
      "outputs": []
    },
    {
      "cell_type": "code",
      "source": [
        "XGB = xgb.XGBClassifier(n_estimators=100, learning_rate=0.1, random_state=42)\n",
        "gradient_boosting = make_pipeline(preprocessing, XGB)\n",
        "\n",
        "scoring = ['accuracy','precision_macro', 'recall_macro' , 'f1_weighted', 'roc_auc']\n",
        "scores = cross_validate(gradient_boosting, X_train, y_train, scoring=scoring, cv=5)\n",
        "\n",
        "sorted(scores.keys())\n",
        "xgb_fit_time = scores['fit_time'].mean()\n",
        "xgb_score_time = scores['score_time'].mean()\n",
        "xgb_accuracy = scores['test_accuracy'].mean()\n",
        "xgb_precision = scores['test_precision_macro'].mean()\n",
        "xgb_recall = scores['test_recall_macro'].mean()\n",
        "xgb_f1 = scores['test_f1_weighted'].mean()\n",
        "xgb_roc = scores['test_roc_auc'].mean()"
      ],
      "metadata": {
        "id": "36MauwDt1Bxt",
        "execution": {
          "iopub.status.busy": "2024-01-28T16:21:17.530917Z",
          "iopub.execute_input": "2024-01-28T16:21:17.531757Z",
          "iopub.status.idle": "2024-01-28T16:21:34.869019Z",
          "shell.execute_reply.started": "2024-01-28T16:21:17.531708Z",
          "shell.execute_reply": "2024-01-28T16:21:34.868047Z"
        },
        "trusted": true
      },
      "execution_count": null,
      "outputs": []
    },
    {
      "cell_type": "code",
      "source": [
        "RF = RandomForestClassifier()\n",
        "random_forest = make_pipeline(preprocessing, RF)\n",
        "\n",
        "\n",
        "scoring = ['accuracy', 'precision_macro', 'recall_macro' , 'f1_weighted', 'roc_auc']\n",
        "scores = cross_validate(random_forest, X_train, y_train, scoring=scoring, cv=5)\n",
        "\n",
        "sorted(scores.keys())\n",
        "forest_fit_time = scores['fit_time'].mean()\n",
        "forest_score_time = scores['score_time'].mean()\n",
        "forest_accuracy = scores['test_accuracy'].mean()\n",
        "forest_precision = scores['test_precision_macro'].mean()\n",
        "forest_recall = scores['test_recall_macro'].mean()\n",
        "forest_f1 = scores['test_f1_weighted'].mean()\n",
        "forest_roc = scores['test_roc_auc'].mean()"
      ],
      "metadata": {
        "id": "ZnajeMna1OMA",
        "execution": {
          "iopub.status.busy": "2024-01-28T16:21:34.870428Z",
          "iopub.execute_input": "2024-01-28T16:21:34.871024Z",
          "iopub.status.idle": "2024-01-28T16:27:49.278723Z",
          "shell.execute_reply.started": "2024-01-28T16:21:34.870988Z",
          "shell.execute_reply": "2024-01-28T16:27:49.277431Z"
        },
        "trusted": true
      },
      "execution_count": null,
      "outputs": []
    },
    {
      "cell_type": "code",
      "source": [
        "clf = AdaBoostClassifier(n_estimators=50, random_state=42)\n",
        "adaboost = make_pipeline(preprocessing, clf)\n",
        "\n",
        "scoring = ['accuracy', 'precision_macro', 'recall_macro' , 'f1_weighted', 'roc_auc']\n",
        "scores = cross_validate(adaboost, X_train, y_train, scoring=scoring, cv=5)\n",
        "\n",
        "sorted(scores.keys())\n",
        "adaboost_fit_time = scores['fit_time'].mean()\n",
        "adaboost_score_time = scores['score_time'].mean()\n",
        "adaboost_accuracy = scores['test_accuracy'].mean()\n",
        "adaboost_precision = scores['test_precision_macro'].mean()\n",
        "adaboost_recall = scores['test_recall_macro'].mean()\n",
        "adaboost_f1 = scores['test_f1_weighted'].mean()\n",
        "adaboost_roc = scores['test_roc_auc'].mean()"
      ],
      "metadata": {
        "id": "DoVlAmJe7Y7k",
        "execution": {
          "iopub.status.busy": "2024-01-28T16:27:49.280354Z",
          "iopub.execute_input": "2024-01-28T16:27:49.280757Z",
          "iopub.status.idle": "2024-01-28T16:28:11.976364Z",
          "shell.execute_reply.started": "2024-01-28T16:27:49.280724Z",
          "shell.execute_reply": "2024-01-28T16:28:11.975133Z"
        },
        "trusted": true
      },
      "execution_count": null,
      "outputs": []
    },
    {
      "cell_type": "code",
      "source": [
        "models_correlation = pd.DataFrame({\n",
        "    'Model'       : ['Logistic Regression', 'Gradient Boosting', 'XGBoost', 'Random Forest', 'Adaboost'],\n",
        "    'Fitting time': [LR_fit_time, dtree_fit_time, xgb_fit_time, forest_fit_time, adaboost_fit_time],\n",
        "    'Scoring time': [LR_score_time, dtree_score_time, xgb_score_time,forest_score_time, adaboost_score_time],\n",
        "    'Accuracy'    : [LR_accuracy, dtree_accuracy, xgb_accuracy, forest_accuracy, adaboost_accuracy],\n",
        "    'Precision'   : [LR_precision, dtree_precision, xgb_precision, forest_precision, adaboost_precision],\n",
        "    'Recall'      : [LR_recall, dtree_recall, xgb_recall, forest_recall, adaboost_recall],\n",
        "    'F1_score'    : [LR_f1, dtree_f1, xgb_f1, forest_f1, adaboost_f1],\n",
        "    'AUC_ROC'     : [LR_roc, dtree_roc, xgb_roc, forest_roc, adaboost_roc],\n",
        "    }, columns = ['Model', 'Fitting time', 'Scoring time', 'Accuracy', 'Precision', 'Recall', 'F1_score', 'AUC_ROC'])\n",
        "\n",
        "models_correlation.sort_values(by='Accuracy', ascending=False)"
      ],
      "metadata": {
        "colab": {
          "base_uri": "https://localhost:8080/",
          "height": 204
        },
        "id": "k8sVaxsN1iON",
        "outputId": "8e5e554c-3884-401d-fb4a-350d04bfc412",
        "execution": {
          "iopub.status.busy": "2024-01-28T16:28:11.977842Z",
          "iopub.execute_input": "2024-01-28T16:28:11.978304Z",
          "iopub.status.idle": "2024-01-28T16:28:12.007608Z",
          "shell.execute_reply.started": "2024-01-28T16:28:11.978263Z",
          "shell.execute_reply": "2024-01-28T16:28:12.006356Z"
        },
        "trusted": true
      },
      "execution_count": null,
      "outputs": [
        {
          "execution_count": 37,
          "output_type": "execute_result",
          "data": {
            "text/plain": "                 Model  Fitting time  Scoring time  Accuracy  Precision  \\\n2              XGBoost      3.120254      0.335858  0.864930   0.859768   \n3        Random Forest     73.720035      1.151724  0.858379   0.852202   \n1    Gradient Boosting     12.608822      0.298119  0.829275   0.825040   \n4             Adaboost      3.990189      0.539284  0.823849   0.818121   \n0  Logistic Regression      8.954012      0.349314  0.800370   0.790873   \n\n     Recall  F1_score   AUC_ROC  \n2  0.853224  0.864311  0.944298  \n3  0.847265  0.857881  0.935914  \n1  0.809950  0.827246  0.911467  \n4  0.805488  0.822061  0.910438  \n0  0.783690  0.799124  0.881027  ",
            "text/html": "<div>\n<style scoped>\n    .dataframe tbody tr th:only-of-type {\n        vertical-align: middle;\n    }\n\n    .dataframe tbody tr th {\n        vertical-align: top;\n    }\n\n    .dataframe thead th {\n        text-align: right;\n    }\n</style>\n<table border=\"1\" class=\"dataframe\">\n  <thead>\n    <tr style=\"text-align: right;\">\n      <th></th>\n      <th>Model</th>\n      <th>Fitting time</th>\n      <th>Scoring time</th>\n      <th>Accuracy</th>\n      <th>Precision</th>\n      <th>Recall</th>\n      <th>F1_score</th>\n      <th>AUC_ROC</th>\n    </tr>\n  </thead>\n  <tbody>\n    <tr>\n      <th>2</th>\n      <td>XGBoost</td>\n      <td>3.120254</td>\n      <td>0.335858</td>\n      <td>0.864930</td>\n      <td>0.859768</td>\n      <td>0.853224</td>\n      <td>0.864311</td>\n      <td>0.944298</td>\n    </tr>\n    <tr>\n      <th>3</th>\n      <td>Random Forest</td>\n      <td>73.720035</td>\n      <td>1.151724</td>\n      <td>0.858379</td>\n      <td>0.852202</td>\n      <td>0.847265</td>\n      <td>0.857881</td>\n      <td>0.935914</td>\n    </tr>\n    <tr>\n      <th>1</th>\n      <td>Gradient Boosting</td>\n      <td>12.608822</td>\n      <td>0.298119</td>\n      <td>0.829275</td>\n      <td>0.825040</td>\n      <td>0.809950</td>\n      <td>0.827246</td>\n      <td>0.911467</td>\n    </tr>\n    <tr>\n      <th>4</th>\n      <td>Adaboost</td>\n      <td>3.990189</td>\n      <td>0.539284</td>\n      <td>0.823849</td>\n      <td>0.818121</td>\n      <td>0.805488</td>\n      <td>0.822061</td>\n      <td>0.910438</td>\n    </tr>\n    <tr>\n      <th>0</th>\n      <td>Logistic Regression</td>\n      <td>8.954012</td>\n      <td>0.349314</td>\n      <td>0.800370</td>\n      <td>0.790873</td>\n      <td>0.783690</td>\n      <td>0.799124</td>\n      <td>0.881027</td>\n    </tr>\n  </tbody>\n</table>\n</div>"
          },
          "metadata": {}
        }
      ]
    }
  ]
}